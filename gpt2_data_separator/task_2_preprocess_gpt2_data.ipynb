{
  "nbformat": 4,
  "nbformat_minor": 0,
  "metadata": {
    "colab": {
      "provenance": []
    },
    "kernelspec": {
      "name": "python3",
      "display_name": "Python 3"
    },
    "language_info": {
      "name": "python"
    }
  },
  "cells": [
    {
      "cell_type": "code",
      "execution_count": null,
      "metadata": {
        "id": "taexJHi2M9Fy"
      },
      "outputs": [],
      "source": [
        "import os\n",
        "import pandas as pd\n",
        "\n",
        "def extract_propaganda_span(sentence):\n",
        "  \"\"\"\n",
        "  Extracts the propaganda span from a sentence.\n",
        "\n",
        "  @param sentence: An input sentence containing '<BOS>' and '<EOS>' markers.\n",
        "  @return: The propaganda span between '<BOS>' and '<EOS>' markers.\n",
        "  \"\"\"\n",
        "\n",
        "  #Find positions of <BOS> and <EOS>\n",
        "  start_index = sentence.find('<BOS>') + len('<BOS> ') if '<BOS>' in sentence else 0\n",
        "  end_index = sentence.find(' <EOS>') if '<EOS>' in sentence else len(sentence)\n",
        "\n",
        "  span = sentence[start_index:end_index] # Extract words between <BOS> and <EOS>\n",
        "\n",
        "  return span\n",
        "\n",
        "def create_folders_from_tsv(tsv_file):\n",
        "  \"\"\"\n",
        "  Separates tsv into preprocessed folder structure. All classes are separated into separate txt files for usage in later dataset fns.\n",
        "  \"\"\"\n",
        "\n",
        "    # Read TSV into a pd DF\n",
        "    df = pd.read_csv(tsv_file, sep='\\t')\n",
        "    df['tagged_in_context'] = df['tagged_in_context'].apply(extract_propaganda_span)\n",
        "\n",
        "    # Create folder to store subfolders\n",
        "    output_folder = os.path.splitext(tsv_file)[0]  # Get output folder name\n",
        "    os.makedirs(output_folder, exist_ok=True)\n",
        "\n",
        "\n",
        "    # Iterate over unique labels\n",
        "    for label in df['label'].unique():\n",
        "        # Create subfolder for each label\n",
        "        label_folder = os.path.join(output_folder, str(label))\n",
        "        os.makedirs(label_folder, exist_ok=True)\n",
        "\n",
        "        #get rows with current label\n",
        "        label_rows = df[df['label'] == label]\n",
        "\n",
        "        # iterate over rows and write contents to text files\n",
        "        for index, row in label_rows.iterrows():\n",
        "            # create a text file for each row\n",
        "            file_name = f\"{index}.txt\"\n",
        "            file_path = os.path.join(label_folder, file_name)\n",
        "\n",
        "\n",
        "            # write the contents of the 'tagged_in_context' column to the text file\n",
        "            with open(file_path, 'w') as file:\n",
        "                file.write(row['tagged_in_context'])\n",
        "\n",
        "    print(f\"Folder structure created successfully in '{output_folder}'\")\n"
      ]
    },
    {
      "cell_type": "code",
      "source": [
        "create_folders_from_tsv(\"/content/drive/MyDrive/ANLE_Coursework/Data/propaganda_val.tsv\")\n",
        "create_folders_from_tsv(\"/content/drive/MyDrive/ANLE_Coursework/Data/propaganda_train.tsv\")"
      ],
      "metadata": {
        "id": "nBMyDpmEbCWB"
      },
      "execution_count": null,
      "outputs": []
    },
    {
      "cell_type": "markdown",
      "source": [],
      "metadata": {
        "id": "m_vH9Kr9Fb-A"
      }
    }
  ]
}