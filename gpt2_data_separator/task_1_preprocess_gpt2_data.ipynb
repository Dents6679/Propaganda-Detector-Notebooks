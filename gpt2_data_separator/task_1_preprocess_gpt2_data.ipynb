{
  "nbformat": 4,
  "nbformat_minor": 0,
  "metadata": {
    "colab": {
      "provenance": []
    },
    "kernelspec": {
      "name": "python3",
      "display_name": "Python 3"
    },
    "language_info": {
      "name": "python"
    }
  },
  "cells": [
    {
      "cell_type": "code",
      "execution_count": null,
      "metadata": {
        "id": "25wb7G3fM48V"
      },
      "outputs": [],
      "source": [
        "import os\n",
        "import pandas as pd\n",
        "\n",
        "\n",
        "def create_folders_from_tsv(tsv_file):\n",
        "  \"\"\"\n",
        "  Separates tsv into preprocessed folder structure. All classes are separated into separate txt files for usage in later dataset fns.\n",
        "  \"\"\"\n",
        "\n",
        "    # Read TSV file into a pandas DataFrame\n",
        "    df = pd.read_csv(tsv_file, sep='\\t')\n",
        "\n",
        "    # Replace all unique propaganda labels with one general propaganda label\n",
        "    df['label'] = df['label'].mask(df['label'] != 'not_propaganda', 'propaganda')\n",
        "\n",
        "\n",
        "    # Create folder to store subfolders\n",
        "    output_folder = os.path.join(os.path.splitext(tsv_file)[0])  # Get output folder name\n",
        "    os.makedirs(output_folder, exist_ok=True)\n",
        "\n",
        "\n",
        "    # Iterate over unique labels\n",
        "    for label in df['label'].unique():\n",
        "        # create subfolder for each label\n",
        "        label_folder = os.path.join(output_folder, str(label))\n",
        "        os.makedirs(label_folder, exist_ok=True)\n",
        "\n",
        "        # get rows with current label\n",
        "        label_rows = df[df['label'] == label]\n",
        "\n",
        "        #iterate over rows and write contents to text files\n",
        "        for index, row in label_rows.iterrows():\n",
        "            #create a text file for each row\n",
        "            file_name = f\"{index}.txt\"\n",
        "            file_path = os.path.join(label_folder, file_name)\n",
        "\n",
        "            #write the contents of the 'tagged_in_context' column to the text file\n",
        "            with open(file_path, 'w') as file:\n",
        "                file.write(row['tagged_in_context'])\n",
        "\n",
        "    print(f\"Folder structure created successfully in '{output_folder}'\")"
      ]
    },
    {
      "cell_type": "code",
      "source": [
        "create_folders_from_tsv(\"/content/drive/MyDrive/ANLE_Coursework/Data/Task-1/propaganda_train.tsv\")\n",
        "create_folders_from_tsv(\"/content/drive/MyDrive/ANLE_Coursework/Data/Task-1/propaganda_val.tsv\")\n"
      ],
      "metadata": {
        "id": "gLHqzMXVzezy"
      },
      "execution_count": null,
      "outputs": []
    }
  ]
}